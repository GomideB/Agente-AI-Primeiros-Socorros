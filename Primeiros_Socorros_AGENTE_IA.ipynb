{
  "nbformat": 4,
  "nbformat_minor": 0,
  "metadata": {
    "colab": {
      "provenance": [],
      "authorship_tag": "ABX9TyNerwUoPm9m0F6XGJTJYLm9",
      "include_colab_link": true
    },
    "kernelspec": {
      "name": "python3",
      "display_name": "Python 3"
    },
    "language_info": {
      "name": "python"
    }
  },
  "cells": [
    {
      "cell_type": "markdown",
      "metadata": {
        "id": "view-in-github",
        "colab_type": "text"
      },
      "source": [
        "<a href=\"https://colab.research.google.com/github/GomideB/ExemploDoc/blob/main/Primeiros_Socorros_AGENTE_IA.ipynb\" target=\"_parent\"><img src=\"https://colab.research.google.com/assets/colab-badge.svg\" alt=\"Open In Colab\"/></a>"
      ]
    },
    {
      "cell_type": "code",
      "execution_count": 43,
      "metadata": {
        "id": "4s7aXx3rQfDG"
      },
      "outputs": [],
      "source": [
        "# Instalação de bibliotecas essenciais para o projeto.\n",
        "# - 'google-genai': Para interagir com os modelos Gemini (Google AI Studio).\n",
        "# - 'google-adk': Google Agent Development Kit, que facilita a construção de agentes de IA.\n",
        "# - 'aiohttp': Para fazer requisições HTTP assíncronas, crucial para as chamadas à API do Google Maps.\n",
        "%pip -q install google-genai google-adk aiohttp"
      ]
    },
    {
      "cell_type": "code",
      "source": [
        "# --- Configurações Iniciais e Importações ---\n",
        "import os\n",
        "import asyncio\n",
        "import aiohttp\n",
        "import google.genai\n",
        "from google.colab import userdata\n",
        "from google.genai import types\n",
        "from google.adk.agents import Agent\n",
        "from google.adk.runners import Runner\n",
        "from google.adk.sessions import InMemorySessionService\n",
        "from google.adk.tools import google_search\n",
        "from typing import List, Dict, Optional\n",
        "import nest_asyncio\n",
        "import textwrap\n",
        "from IPython.display import display, Markdown, HTML\n",
        "\n",
        "# --- INÍCIO DA SUPRESSÃO DE LOGS INDESEJADOS ---\n",
        "# Suprime avisos e erros específicos de bibliotecas que podem ser ruidosos no console,\n",
        "# comuns em ambientes de notebook com código assíncrono.\n",
        "import logging\n",
        "import warnings\n",
        "\n",
        "# Suprime avisos e erros do logger 'asyncio' (e.g., 'Task was destroyed but it is pending!')\n",
        "logging.getLogger('asyncio').setLevel(logging.CRITICAL)\n",
        "\n",
        "# Suprime avisos e erros do logger 'httpx' (usado internamente por google-genai/adk para requisições HTTP)\n",
        "logging.getLogger('httpx').setLevel(logging.CRITICAL)\n",
        "\n",
        "# Suprime outros avisos gerais do Python (e.g., de bibliotecas)\n",
        "warnings.filterwarnings(\"ignore\")\n",
        "# --- FIM DA SUPRESSÃO DE LOGS INDESEJADOS ---\n",
        "\n",
        "# 'nest_asyncio.apply()' permite aninhar loops de evento asyncio,\n",
        "# o que é necessário para rodar código assínrono em ambientes como o Google Colab,\n",
        "# onde um loop de evento já pode estar ativo.\n",
        "nest_asyncio.apply()"
      ],
      "metadata": {
        "id": "JIPcX8vTQ-P-"
      },
      "execution_count": 44,
      "outputs": []
    },
    {
      "cell_type": "code",
      "source": [
        "# --- Configuração das Chaves de API ---\n",
        "# 'userdata.get()' é uma função do Colab para acessar segredos de forma segura.\n",
        "# Certifique-se de que 'GOOGLE_API_KEY' (para Gemini) e 'Maps_API' (para Google Maps)\n",
        "# estão configuradas nas \"Secrets\" do Google Colab.\n",
        "os.environ[\"GOOGLE_API_KEY2\"] = userdata.get('GOOGLE_API_KEY2')\n",
        "os.environ[\"GOOGLE_MAPS_API\"] = userdata.get('GOOGLE_MAPS_API')\n",
        "# A chave da API do Google Maps é armazenada em uma variável local para uso nas funções.\n",
        "MAPS_API_KEY = os.environ[\"GOOGLE_MAPS_API\"]\n",
        "\n",
        "# Inicialização do cliente Gemini.\n",
        "# Este cliente deve ser inicializado uma única vez no início do script para gerenciar as chamadas à API Gemini.\n",
        "client = google.genai.Client()\n",
        "\n",
        "# --- Constantes do Projeto ---\n",
        "# Define um raio de busca padrão em quilômetros para as APIs de localização.\n",
        "DEFAULT_SEARCH_RADIUS_KM = 50"
      ],
      "metadata": {
        "id": "e-zWIyK4WKnG"
      },
      "execution_count": 45,
      "outputs": []
    },
    {
      "cell_type": "code",
      "source": [
        "# --- Funções Auxiliares Comuns ---\n",
        "def executar_agente(agent: Agent, mensagem: str) -> str:\n",
        "    \"\"\"\n",
        "    Executa um agente de IA do Google ADK com uma mensagem específica e coleta sua resposta final.\n",
        "    Esta função encapsula a lógica de criação de sessão e execução do agente,\n",
        "    garantindo que o fluxo de interação seja consistente para todos os agentes.\n",
        "\n",
        "    Args:\n",
        "        agent (Agent): A instância do agente ADK (ex: agente_triagem, agente_planejamento_acoes).\n",
        "        mensagem (str): A mensagem de entrada (prompt) a ser enviada para o agente.\n",
        "\n",
        "    Returns:\n",
        "        str: A resposta final gerada pelo agente, sem espaços em branco no início/fim.\n",
        "    \"\"\"\n",
        "    # Cria um serviço de sessão em memória. Ele gerencia o estado da conversa com o agente.\n",
        "    session_service = InMemorySessionService()\n",
        "    # Cria uma sessão específica para um usuário ('user1') e um aplicativo (o nome do agente).\n",
        "    # Isso permite que o agente mantenha o contexto através de múltiplas interações.\n",
        "    session = session_service.create_session(app_name=agent.name, user_id=\"user1\", session_id=\"session1\")\n",
        "\n",
        "    # Cria um 'Runner' que é responsável por orquestrar a execução do agente.\n",
        "    # O Runner utiliza o agente e o serviço de sessão para processar as mensagens.\n",
        "    runner = Runner(agent=agent, app_name=agent.name, session_service=session_service)\n",
        "\n",
        "    # Converte a mensagem de entrada do usuário para o formato de conteúdo esperado pelo agente.\n",
        "    content = types.Content(role=\"user\", parts=[types.Part(text=mensagem)])\n",
        "    resposta = \"\"\n",
        "\n",
        "    # Executa o agente e itera sobre os eventos retornados.\n",
        "    # O método 'runner.run()' retorna um gerador de eventos.\n",
        "    for event in runner.run(user_id=\"user1\", session_id=\"session1\", new_message=content):\n",
        "        # Verifica se o evento atual contém a resposta final do agente.\n",
        "        if event.is_final_response():\n",
        "            # Concatena todas as partes de texto da resposta final.\n",
        "            for part in event.content.parts:\n",
        "                if part.text:\n",
        "                    resposta += part.text + \"\\n\"\n",
        "    return resposta.strip() # Retorna a resposta final, removendo quebras de linha/espaços extras.\n",
        "\n",
        "def to_markdown(text: str) -> Markdown:\n",
        "    \"\"\"\n",
        "    Formata uma string para exibição como Markdown no Google Colab,\n",
        "    adicionando uma indentação visual de citação e padronizando bullet points.\n",
        "\n",
        "    Args:\n",
        "        text (str): O texto a ser formatado.\n",
        "\n",
        "    Returns:\n",
        "        Markdown: Um objeto Markdown que pode ser exibido no Colab.\n",
        "    \"\"\"\n",
        "    # Substitui bullet points unicode por asteriscos para renderização consistente em Markdown.\n",
        "    text = text.replace('•', ' *')\n",
        "    # Adiciona uma indentação tipo \"bloco de citação\" (>) a cada linha do texto.\n",
        "    return Markdown(textwrap.indent(text, '> '))"
      ],
      "metadata": {
        "id": "whKTCjLGWXXk"
      },
      "execution_count": 46,
      "outputs": []
    },
    {
      "cell_type": "code",
      "source": [
        "# --- Definição e Instanciação Única dos Agentes ---\n",
        "# Cada agente é uma instância da classe 'Agent' do ADK, configurada com um nome,\n",
        "# modelo de linguagem (Gemini), instruções específicas para sua tarefa e uma descrição.\n",
        "# Alguns agentes podem ter ferramentas associadas, como a 'Google Search'.\n",
        "\n",
        "# Agente 1: Agente de Triagem Inicial\n",
        "agente_triagem = Agent(\n",
        "    name=\"agente_triagem\",\n",
        "    model=\"gemini-1.5-flash\", # Modelo Gemini otimizado para velocidade.\n",
        "    instruction=\"\"\"Você é um assistente de primeiros socorros.\n",
        "    Pergunte ao usuário sobre o que ele está sentindo para entender a situação de emergência.\n",
        "    Mantenha a conversa breve e foque em obter uma descrição clara dos sintomas.\n",
        "    Após a descrição inicial, **pergunte:** \"Você sente mais alguma dor ou algo diferente que eu deva saber?\"\n",
        "    \"\"\",\n",
        "    description=\"Agente para coletar os sintomas iniciais do usuário.\"\n",
        ")"
      ],
      "metadata": {
        "id": "gH5l4NnQWdnM"
      },
      "execution_count": 47,
      "outputs": []
    },
    {
      "cell_type": "code",
      "source": [
        "# Agente 2: Agente de Coleta e Consolidação de Sintomas Adicionais\n",
        "agente_coleta_sintomas_adicionais = Agent(\n",
        "    name=\"agente_coleta_sintomas_adicionais\",\n",
        "    model=\"gemini-1.5-flash\",\n",
        "    instruction=\"\"\"Você é um assistente de saúde.\n",
        "    Sua tarefa é consolidar informações de sintomas. Receberá um resumo dos sintomas iniciais\n",
        "    e uma descrição de sintomas adicionais fornecidos pelo usuário.\n",
        "    Crie uma descrição única, clara e completa de TODOS os sintomas do paciente,\n",
        "    sem incluir nenhuma pergunta ou instrução adicional. Se o usuário indicou que não há\n",
        "    sintomas adicionais, apenas forneça o resumo dos sintomas iniciais.\n",
        "    \"\"\",\n",
        "    description=\"Agente para coletar e consolidar sintomas adicionais do usuário.\"\n",
        ")"
      ],
      "metadata": {
        "id": "8ulc21P4Whfd"
      },
      "execution_count": 48,
      "outputs": []
    },
    {
      "cell_type": "code",
      "source": [
        "# Agente 3: Agente de Busca de Primeiros Socorros\n",
        "agente_busca_primeiros_socorros = Agent(\n",
        "    name=\"agente_busca_primeiros_socorros\",\n",
        "    model=\"gemini-1.5-flash\",\n",
        "    instruction=\"\"\"Você é um especialista em primeiros socorros.\n",
        "    Utilize a ferramenta de busca do Google para encontrar informações confiáveis e atualizadas\n",
        "    sobre como tratar a condição médica descrita. Foque em fontes oficiais de saúde (ministérios,\n",
        "    hospitais, organizações de primeiros socorros). Limite a busca a 5 resultados mais relevantes.\n",
        "    \"\"\",\n",
        "    description=\"Agente para buscar informações de primeiros socorros no Google.\",\n",
        "    tools=[google_search] # Este agente utiliza a ferramenta de busca do Google.\n",
        ")"
      ],
      "metadata": {
        "id": "vXM0AgaBWj0l"
      },
      "execution_count": 49,
      "outputs": []
    },
    {
      "cell_type": "code",
      "source": [
        "# Agente 4: Agente de Avaliação de Emergência\n",
        "agente_avaliacao_emergencia = Agent(\n",
        "    name=\"agente_avaliacao_emergencia\",\n",
        "    model=\"gemini-1.5-flash\",\n",
        "    instruction=\"\"\"Você é um especialista em primeiros socorros.\n",
        "    Analise a **descrição completa dos sintomas** e os **resultados da busca por primeiros socorros**\n",
        "    para determinar a gravidade da situação.\n",
        "    Se a situação for de emergência (e.g., suspeita de infarto, dificuldade respiratória grave,\n",
        "    perda de consciência), **INSTRUIA O USUÁRIO A LIGAR IMEDIATAMENTE PARA O SERVIÇO DE EMERGÊNCIA (192 - SAMU no Brasil).**\n",
        "    Caso contrário, oriente o usuário a procurar atendimento médico em um hospital ou clínica.\n",
        "    Seja extremamente claro e direto na recomendação de emergência. Não faça mais perguntas ao paciente.\n",
        "    \"\"\",\n",
        "    description=\"Agente para avaliar a gravidade da situação e recomendar a ação apropriada.\"\n",
        ")"
      ],
      "metadata": {
        "id": "Q8bF6DQOWqud"
      },
      "execution_count": 50,
      "outputs": []
    },
    {
      "cell_type": "code",
      "source": [
        "# Agente 5: Agente de Planejamento de Ações\n",
        "agente_planejamento_acoes = Agent(\n",
        "    name=\"agente_planejamento_acoes\",\n",
        "    model=\"gemini-1.5-flash\",\n",
        "    instruction=\"\"\"Você é um especialista em primeiros socorros.\n",
        "    Analise os resultados da busca do Google fornecidos e crie um plano conciso e lógico de\n",
        "    ações de primeiros socorros a serem recomendadas ao usuário. O plano deve ser claro,\n",
        "    objetivo e priorizar as ações mais urgentes. Inclua, se necessário, orientações sobre\n",
        "    quando procurar ajuda médica profissional e como proceder até lá. Escreva da forma mais direta e enxuta possível.\n",
        "    \"\"\",\n",
        "    description=\"Agente para planejar as ações de primeiros socorros com base em resultados de busca.\"\n",
        "    # Não possui ferramentas, pois analisa dados já fornecidos.\n",
        ")"
      ],
      "metadata": {
        "id": "YWKGaY_gWoC2"
      },
      "execution_count": 51,
      "outputs": []
    },
    {
      "cell_type": "code",
      "source": [
        "# Agente 6: Agente de Raciocínio de Localização de Ajuda Médica\n",
        "agente_localizacao_ajuda_medica = Agent(\n",
        "    name=\"agente_localizacao_ajuda_medica\",\n",
        "    model=\"gemini-1.5-flash\",\n",
        "    instruction=\"\"\"Você é um especialista em primeiros socorros.\n",
        "    Com base na localização fornecida e no planejamento criado, você pode raciocinar sobre a necessidade de hospitais e médicos.\n",
        "    No entanto, a busca real e a geração de rotas serão feitas por funções auxiliares, que te entregarão os dados.\n",
        "    Apenas indique que a busca por locais próximos está sendo realizada.\n",
        "    \"\"\",\n",
        "    description=\"Agente para raciocinar sobre a necessidade de localizar ajuda médica.\"\n",
        ")"
      ],
      "metadata": {
        "id": "xXYQGOu2Ws_N"
      },
      "execution_count": 52,
      "outputs": []
    },
    {
      "cell_type": "code",
      "source": [
        "# Agente 7: Agente de Raciocínio de Rota e Navegação\n",
        "agente_rota_navegacao = Agent(\n",
        "    name=\"agente_rota_navegacao\",\n",
        "    model=\"gemini-1.5-flash\",\n",
        "    instruction=\"\"\"Você é um especialista em primeiros socorros.\n",
        "    Com base nos hospitais encontrados e na sua localização, você pode raciocinar sobre a necessidade de rotas.\n",
        "    No entanto, a geração de links de rotas será feita por funções auxiliares, que te entregarão os dados.\n",
        "    Apenas indique que as rotas estão sendo geradas.\n",
        "    \"\"\",\n",
        "    description=\"Agente para raciocinar sobre rotas para hospitais.\"\n",
        ")"
      ],
      "metadata": {
        "id": "sZMB1wldWu4F"
      },
      "execution_count": 53,
      "outputs": []
    },
    {
      "cell_type": "code",
      "source": [
        "# Agente 8: Agente de Orientação Detalhada Final\n",
        "agente_orientacao_detalhada = Agent(\n",
        "    name=\"agente_orientacao_detalhada\",\n",
        "    model=\"gemini-1.5-flash\",\n",
        "    instruction=\"\"\"Você é um especialista em primeiros socorros.\n",
        "    Com base na **descrição completa dos sintomas, resultados de busca, plano de ações e avaliação de emergência** fornecidos,\n",
        "    gere um guia claro e acionável com instruções gerais e fáceis de seguir para o usuário.\n",
        "\n",
        "    **Formate a saída utilizando tópicos e subtópicos com bullet points (usando '•' ou '-') para melhor clareza e legibilidade.**\n",
        "    Organize as informações em seções concisas\"\"\",\n",
        "    description=\"Agente para gerar orientações detalhadas finais de primeiros socorros, compilando todas as informações.\",\n",
        "    tools=[google_search] # Este agente utiliza a ferramenta de busca do Google.\n",
        ")\n"
      ],
      "metadata": {
        "id": "lWGkdKtSWxwt"
      },
      "execution_count": 54,
      "outputs": []
    },
    {
      "cell_type": "code",
      "source": [
        "# --- Funções Auxiliares para a API do Google Maps (Assíncronas) ---\n",
        "# Estas funções interagem com a API do Google Places para buscar locais próximos.\n",
        "# São assíncronas para melhor performance em operações de rede.\n",
        "\n",
        "async def buscar_hospitais_proximos(latitude: float, longitude: float, raio: int = DEFAULT_SEARCH_RADIUS_KM) -> List[Dict]:\n",
        "    \"\"\"\n",
        "    Busca hospitais próximos a uma dada localização usando a API Google Places Nearby Search.\n",
        "    Limita os resultados a no máximo 4 hospitais para concisão. Inclui tratamento de erros\n",
        "    para requisições de rede e respostas da API.\n",
        "\n",
        "    Args:\n",
        "        latitude (float): Latitude da localização do usuário.\n",
        "        longitude (float): Longitude da localização do usuário.\n",
        "        raio (int): Raio de busca em quilômetros. Será convertido para metros na URL da API.\n",
        "\n",
        "    Returns:\n",
        "        List[Dict]: Uma lista de dicionários, cada um representando um hospital com nome, endereço,\n",
        "                    localização (latitude/longitude) e avaliação, se disponível.\n",
        "                    Retorna uma lista vazia em caso de erro ou nenhum resultado.\n",
        "    \"\"\"\n",
        "    # Constrói a URL para a API Nearby Search do Google Places para hospitais.\n",
        "    url = f\"https://maps.googleapis.com/maps/api/place/nearbysearch/json?location={latitude},{longitude}&radius={raio * 1000}&type=hospital&key={MAPS_API_KEY}&language=pt\"\n",
        "\n",
        "    # Utiliza aiohttp.ClientSession como um gerenciador de contexto assíncrono para garantir\n",
        "    # que a sessão seja fechada corretamente, mesmo em caso de erros.\n",
        "    async with aiohttp.ClientSession() as session:\n",
        "        try:\n",
        "            # Faz a requisição GET assíncrona para a URL.\n",
        "            async with session.get(url) as response:\n",
        "                # Lança uma exceção HTTPError para respostas HTTP de status 4xx/5xx.\n",
        "                response.raise_for_status()\n",
        "                # Parseia a resposta JSON.\n",
        "                data = await response.json()\n",
        "\n",
        "                if data[\"status\"] == \"OK\":\n",
        "                    hospitais = []\n",
        "                    # Itera sobre os resultados e extrai as informações relevantes dos hospitais.\n",
        "                    for result in data[\"results\"]:\n",
        "                        hospitais.append({\n",
        "                            \"nome\": result.get(\"name\"),\n",
        "                            \"endereco\": result.get(\"vicinity\"),\n",
        "                            \"localizacao\": result.get(\"geometry\", {}).get(\"location\"),\n",
        "                            \"rating\": result.get(\"rating\")\n",
        "                        })\n",
        "                    return hospitais[:4] # Retorna no máximo os 4 primeiros hospitais encontrados.\n",
        "                elif data[\"status\"] == \"ZERO_RESULTS\":\n",
        "                    print(\"Não foram encontrados hospitais na área especificada.\")\n",
        "                    return []\n",
        "                else:\n",
        "                    # Captura outros status de erro da API do Google Places.\n",
        "                    error_message = data.get('error_message', 'Mensagem de erro não disponível.')\n",
        "                    print(f\"Erro ao buscar hospitais: {data['status']} - {error_message}\")\n",
        "                    return []\n",
        "        except asyncio.TimeoutError:\n",
        "            # Exceção específica para timeout da requisição.\n",
        "            print(f\"Tempo limite excedido ao buscar hospitais. Tente novamente ou reduza o raio de busca.\")\n",
        "            return []\n",
        "        except aiohttp.ClientError as e:\n",
        "            # Exceção para erros gerais de requisição HTTP (conexão, DNS, etc.).\n",
        "            print(f\"Erro de requisição HTTP ao buscar hospitais: {e}\")\n",
        "            return []\n",
        "        except Exception as e:\n",
        "            # Captura quaisquer outras exceções inesperadas.\n",
        "            print(f\"Erro inesperado ao buscar hospitais: {e}\")\n",
        "            return []\n",
        "\n",
        "async def buscar_medicos_proximos(latitude: float, longitude: float, raio: int = DEFAULT_SEARCH_RADIUS_KM) -> List[Dict]:\n",
        "    \"\"\"\n",
        "    Busca médicos/clínicas próximos a uma dada localização usando a API Google Places Nearby Search.\n",
        "    Limita os resultados a no máximo 4 médicos/clínicas para concisão. Inclui tratamento de erros\n",
        "    para requisições de rede e respostas da API.\n",
        "\n",
        "    Args:\n",
        "        latitude (float): Latitude da localização do usuário.\n",
        "        longitude (float): Longitude da localização do usuário.\n",
        "        raio (int): Raio de busca em quilômetros. Será convertido para metros na URL da API.\n",
        "\n",
        "    Returns:\n",
        "        List[Dict]: Uma lista de dicionários, cada um representando um médico/clínica com nome, endereço,\n",
        "                    localização (latitude/longitude) e avaliação, se disponível.\n",
        "                    Retorna uma lista vazia em caso de erro ou nenhum resultado.\n",
        "    \"\"\"\n",
        "    # Constrói a URL para a API Nearby Search do Google Places para médicos.\n",
        "    url = f\"https://maps.googleapis.com/maps/api/place/nearbysearch/json?location={latitude},{longitude}&radius={raio * 1000}&type=doctor&key={MAPS_API_KEY}&language=pt\"\n",
        "\n",
        "    # Utiliza aiohttp.ClientSession como um gerenciador de contexto assíncrono.\n",
        "    async with aiohttp.ClientSession() as session:\n",
        "        try:\n",
        "            # Faz a requisição GET assíncrona.\n",
        "            async with session.get(url) as response:\n",
        "                response.raise_for_status() # Lança uma exceção HTTPError.\n",
        "                data = await response.json()\n",
        "\n",
        "                if data[\"status\"] == \"OK\":\n",
        "                    medicos = []\n",
        "                    # Itera sobre os resultados e extrai as informações relevantes dos médicos/clínicas.\n",
        "                    for result in data[\"results\"]:\n",
        "                        medicos.append({\n",
        "                            \"nome\": result.get(\"name\"),\n",
        "                            \"endereco\": result.get(\"vicinity\"),\n",
        "                            \"localizacao\": result.get(\"geometry\", {}).get(\"location\"),\n",
        "                            \"rating\": result.get(\"rating\")\n",
        "                        })\n",
        "                    return medicos[:4] # Retorna no máximo os 4 primeiros médicos/clínicas encontrados.\n",
        "                elif data[\"status\"] == \"ZERO_RESULTS\":\n",
        "                    print(\"Não foram encontrados médicos na área especificada.\")\n",
        "                    return []\n",
        "                else:\n",
        "                    error_message = data.get('error_message', 'Mensagem de erro não disponível.')\n",
        "                    print(f\"Erro ao buscar médicos: {data['status']} - {error_message}\")\n",
        "                    return []\n",
        "        except asyncio.TimeoutError:\n",
        "            print(f\"Tempo limite excedido ao buscar médicos. Tente novamente ou reduza o raio de busca.\")\n",
        "            return []\n",
        "        except aiohttp.ClientError as e:\n",
        "            print(f\"Erro de requisição HTTP ao buscar médicos: {e}\")\n",
        "            return []\n",
        "        except Exception as e:\n",
        "            print(f\"Erro inesperado ao buscar médicos: {e}\")\n",
        "            return []\n",
        "\n",
        "async def gerar_rotas_Maps(origem_lat: float, origem_long: float, destinos: List[Dict]) -> List[str]:\n",
        "    \"\"\"\n",
        "    Gera URLs diretas para rotas no Google Maps para navegação.\n",
        "    As URLs são abertas em uma nova aba ao serem clicadas. Limita a 4 links de rota.\n",
        "\n",
        "    Args:\n",
        "        origem_lat (float): Latitude do ponto de origem (usuário).\n",
        "        origem_long (float): Longitude do ponto de origem (usuário).\n",
        "        destinos (List[Dict]): Lista de dicionários de destinos (hospitais/médicos)\n",
        "                                contendo suas informações de localização.\n",
        "\n",
        "    Returns:\n",
        "        List[str]: Uma lista de URLs do Google Maps para as rotas geradas.\n",
        "    \"\"\"\n",
        "    rotas = []\n",
        "    # Itera sobre os primeiros 4 destinos para gerar as URLs das rotas.\n",
        "    for destino in destinos[:4]:\n",
        "        # Verifica se as informações de localização necessárias estão presentes no destino.\n",
        "        if \"localizacao\" in destino and \"lat\" in destino[\"localizacao\"] and \"lng\" in destino[\"localizacao\"]:\n",
        "            destino_lat = destino[\"localizacao\"][\"lat\"]\n",
        "            destino_long = destino[\"localizacao\"][\"lng\"]\n",
        "\n",
        "            # Constrói a URL do Google Maps para obter direções.\n",
        "            # 'origin' define o ponto de partida e 'destination' o ponto de chegada.\n",
        "            # 'travelmode=driving' especifica o modo de viagem (carro).\n",
        "            url = f\"https://www.google.com/maps/dir/{origem_lat},{origem_long}/{destino_lat},{destino_long}/data=!4m2!4m1!3e0?entry=ttu\"\n",
        "            rotas.append(url)\n",
        "        else:\n",
        "            print(f\"Localização inválida para destino: {destino.get('nome', 'N/A')}. Rota não gerada.\")\n",
        "    return rotas # Retorna a lista de URLs de rotas.\n",
        "\n",
        "# --- Função Orquestrador Principal ---\n",
        "async def orquestrador_primeiros_socorros(mensagem_usuario: str, latitude_usuario: float, longitude_usuario: float):\n",
        "    \"\"\"\n",
        "    Orquestra a interação entre os diversos agentes de IA e funções auxiliares,\n",
        "    guiando o usuário através de um processo estruturado de assistência de primeiros socorros.\n",
        "\n",
        "    Args:\n",
        "        mensagem_usuario (str): A descrição inicial dos sintomas fornecida pelo usuário.\n",
        "        latitude_usuario (float): Latitude da localização atual do usuário.\n",
        "        longitude_usuario (float): Longitude da localização atual do usuário.\n",
        "    \"\"\"\n",
        "    print(\"\\n\" + \"=\"*70)\n",
        "    print(\"⚕️ Sistema de Assistência de Primeiros Socorros Ativado ⚕️\".center(70))\n",
        "    print(\"Siga as orientações para obter a melhor assistência.\".center(70))\n",
        "    print(\"=\"*70 + \"\\n\")\n",
        "\n",
        "    # Passo 1: Triagem Inicial dos Sintomas\n",
        "    # O agente de triagem coleta a descrição inicial dos sintomas do usuário.\n",
        "    print(\"\\n--- 🗣️ AGENTE DE TRIAGEM: Analisando seus sintomas iniciais... ---\\n\")\n",
        "    resposta_triagem = executar_agente(agente_triagem, mensagem_usuario)\n",
        "    display(to_markdown(f\"**Agente de Triagem:** {resposta_triagem}\"))\n",
        "    print(\"--------------------------------------------------------------\")\n",
        "\n",
        "    # Passo 2: Coleta de Sintomas Adicionais\n",
        "    # O sistema solicita informações adicionais para ter um quadro de saúde mais completo.\n",
        "    print(\"❓ Você sente mais alguma dor ou algo diferente?\")\n",
        "    # O prompt do input é mantido curto para minimizar problemas de layout.\n",
        "    mensagem_adicional_usuario = input(\"   (Digite 'não' se não houver): \")\n",
        "\n",
        "    # O agente de consolidação de sintomas combina as informações iniciais e adicionais.\n",
        "    print(\"\\n--- 🗣️ AGENTE DE SINTOMAS ADICIONAIS: Consolidando as informações... ---\\n\")\n",
        "    sintomas_consolidados = executar_agente(agente_coleta_sintomas_adicionais,\n",
        "                                            f\"Resumo dos sintomas iniciais:\\n{resposta_triagem}\\n\\nSintomas adicionais informados pelo usuário:\\n{mensagem_adicional_usuario}\")\n",
        "    display(to_markdown(f\"**Sintomas Consolidados:**\\n{sintomas_consolidados}\"))\n",
        "    print(\"--------------------------------------------------------------\")\n",
        "\n",
        "    # Passo 3: Busca por Informações de Primeiros Socorros (Saída Suprimida)\n",
        "    # O agente de busca utiliza a ferramenta Google Search para encontrar orientações confiáveis.\n",
        "    # Os resultados não são exibidos diretamente, mas são passados para os próximos agentes.\n",
        "    print(\"\\n--- 🔍 AGENTE DE BUSCA: Pesquisando as melhores práticas de primeiros socorros... ---\\n\")\n",
        "    # A linha abaixo executa a busca, mas removemos o 'display()' para não printar os resultados.\n",
        "    resultados_busca = executar_agente(agente_busca_primeiros_socorros, sintomas_consolidados)\n",
        "    print(\"A busca de informações de primeiros socorros foi concluída internamente.\")\n",
        "    print(\"--------------------------------------------------------------\")\n",
        "\n",
        "    # Passo 4: Avaliação da Gravidade da Emergência\n",
        "    # AGORA: O agente de avaliação determina a urgência da situação com base apenas nos sintomas e na busca.\n",
        "    print(\"\\n--- 🚨 AGENTE DE AVALIAÇÃO DE EMERGÊNCIA: Analisando a gravidade da situação... ---\\n\")\n",
        "    # A instrução do agente de avaliação foi adaptada para esta nova ordem.\n",
        "    recomendacao_emergencia = executar_agente(agente_avaliacao_emergencia,\n",
        "                                              f\"Descrição dos sintomas: {sintomas_consolidados}\\nResultados da busca: {resultados_busca}\")\n",
        "    display(to_markdown(f\"**Avaliação e Recomendação de Emergência:**\\n{recomendacao_emergencia}\"))\n",
        "    print(\"--------------------------------------------------------------\")\n",
        "\n",
        "    # Passo 5: Planejamento das Ações de Primeiros Socorros\n",
        "    # AGORA: Com base nos resultados da busca, o agente de planejamento formula um plano de ação inicial.\n",
        "    print(\"\\n--- 📝 AGENTE DE PLANEJAMENTO: Elaborando um plano de ação... ---\\n\")\n",
        "    plano_acoes = executar_agente(agente_planejamento_acoes, resultados_busca)\n",
        "    display(to_markdown(f\"**Plano de Ações Sugerido:**\\n{plano_acoes}\"))\n",
        "    print(\"--------------------------------------------------------------\")\n",
        "\n",
        "    # Passo 6: Busca de Locais de Ajuda Médica Próximos\n",
        "    # Aciona as funções de Maps para encontrar hospitais e médicos.\n",
        "    print(\"\\n--- 🏥 AGENTE DE LOCALIZAÇÃO: Buscando hospitais e médicos próximos a você... ---\\n\")\n",
        "    # O agente apenas sinaliza o que está acontecendo, a busca é feita pelas funções auxiliares.\n",
        "    executar_agente(agente_localizacao_ajuda_medica, \"Coletando localização do usuário e buscando locais de ajuda.\")\n",
        "\n",
        "    hospitais = await buscar_hospitais_proximos(latitude_usuario, longitude_usuario)\n",
        "    medicos = await buscar_medicos_proximos(latitude_usuario, longitude_usuario)\n",
        "\n",
        "    print(\"\\n**Hospitais Próximos (Top 4):**\")\n",
        "    if hospitais:\n",
        "        for hospital in hospitais:\n",
        "            display(to_markdown(f\"- **{hospital.get('nome')}** ({hospital.get('endereco')}, Avaliação: {hospital.get('rating', 'N/A')})\"))\n",
        "    else:\n",
        "        display(to_markdown(\"Não foram encontrados hospitais próximos.\"))\n",
        "\n",
        "    print(\"\\n**Médicos/Clínicas Próximos (Top 4):**\")\n",
        "    if medicos:\n",
        "        for medico in medicos:\n",
        "            display(to_markdown(f\"- **{medico.get('nome')}** ({medico.get('endereco')}, Avaliação: {medico.get('rating', 'N/A')})\"))\n",
        "    else:\n",
        "        display(to_markdown(\"Não foram encontrados médicos/clínicas próximos.\"))\n",
        "    print(\"--------------------------------------------------------------\")\n",
        "\n",
        "    # Passo 7: Geração de Rotas para Hospitais\n",
        "    # Gera links diretos para navegação no Google Maps.\n",
        "    print(\"\\n--- 🗺️ AGENTE DE NAVEGAÇÃO: Gerando rotas para os locais de ajuda... ---\\n\")\n",
        "    # O agente apenas sinaliza o que está acontecendo, a geração é feita pela função auxiliar.\n",
        "    executar_agente(agente_rota_navegacao, \"Gerando links de rotas para os hospitais encontrados.\")\n",
        "\n",
        "    rotas_hospitais = await gerar_rotas_Maps(latitude_usuario, longitude_usuario, hospitais)\n",
        "    if rotas_hospitais:\n",
        "        # Exibe os links de rota de forma clicável.\n",
        "        for i, rota in enumerate(rotas_hospitais):\n",
        "            hospital_nome = hospitais[i].get('nome', 'Destino') if i < len(hospitais) else 'Destino'\n",
        "            display(to_markdown(f\"Rota para **{hospital_nome}**:\"))\n",
        "            display(HTML(f'<a href=\"{rota}\" target=\"_blank\">Clique aqui para a rota no Google Maps</a>'))\n",
        "    else:\n",
        "        display(to_markdown(\"Não foi possível gerar rotas para os hospitais encontrados.\"))\n",
        "    print(\"--------------------------------------------------------------\")\n",
        "\n",
        "    # Passo 8: Orientação Detalhada Final (Síntese Completa)\n",
        "    # Este agente compila todas as informações (sintomas, busca, plano, emergência, locais)\n",
        "    # para gerar a orientação final e completa para o usuário.\n",
        "    print(\"\\n--- ✨ AGENTE DE ORIENTAÇÃO DETALHADA: Compilando seu guia de ação final... ---\\n\")\n",
        "    # Constrói um contexto rico para o agente de orientação detalhada.\n",
        "    contexto_completo_para_orientacao = (\n",
        "        f\"Sintomas consolidados: {sintomas_consolidados}\\n\\n\"\n",
        "        f\"Resultados da busca por primeiros socorros: {resultados_busca}\\n\\n\"\n",
        "        f\"Plano de ações recomendado: {plano_acoes}\\n\\n\"\n",
        "        f\"Avaliação de emergência: {recomendacao_emergencia}\\n\\n\"\n",
        "        \"Locais de ajuda médica encontrados (hospitais e médicos foram listados com endereços e avaliações): \"\n",
        "        f\"{'Hospitais: ' + ', '.join([h['nome'] for h in hospitais]) if hospitais else 'Nenhum hospital encontrado'}. \"\n",
        "        f\"{'Médicos/Clínicas: ' + ', '.join([m['nome'] for m in medicos]) if medicos else 'Nenhum médico/clínica encontrado'}.\"\n",
        "    )\n",
        "    orientacao_detalhada_final = executar_agente(agente_orientacao_detalhada, contexto_completo_para_orientacao)\n",
        "\n",
        "    # --- RESUMO FINAL DA ASSISTÊNCIA AO USUÁRIO ---\n",
        "    # Esta seção apresenta um resumo consolidado e focado nas ações imediatas para o usuário.\n",
        "    print(\"\\n\" + \"*\"*70)\n",
        "    print(\"🤖 RESUMO FINAL DA ASSISTÊNCIA DE PRIMEIROS SOCORROS 🤖\".center(70))\n",
        "    print(\"*\"*70 + \"\\n\")\n",
        "\n",
        "    resposta_final = f\"\"\"\n",
        "**1. Orientações de Primeiros Socorros:**\n",
        "{textwrap.indent(orientacao_detalhada_final.strip(), '    ')}\n",
        "\n",
        "**2. Recomendação Urgente:**\n",
        "{textwrap.indent(recomendacao_emergencia.strip(), '    ')}\n",
        "\n",
        "---\n",
        "**IMPORTANTE:** Para detalhes sobre **Hospitais, Médicos/Clínicas e Rotas**, por favor,\n",
        "**role para cima** e verifique as mensagens anteriores. Os links para o Google Maps estão lá!\n",
        "\"\"\"\n",
        "    display(Markdown(resposta_final))\n",
        "    print(\"\\n\" + \"=\"*70)\n",
        "    print(\"Processo de Assistência Concluído. Fique bem!\".center(70))\n",
        "    print(\"=\"*70 + \"\\n\")\n",
        "\n",
        "\n",
        "# --- Execução Principal do Programa ---\n",
        "async def main():\n",
        "    \"\"\"\n",
        "    Função principal que inicia o fluxo do sistema de primeiros socorros.\n",
        "    Ela coleta a descrição inicial do usuário e define uma localização de teste.\n",
        "    Em uma aplicação real, a localização seria obtida dinamicamente.\n",
        "    \"\"\"\n",
        "    # Solicita a descrição inicial dos sintomas ao usuário.\n",
        "    mensagem_usuario = input(\"❓ Olá! Para iniciar, por favor, descreva o que você está sentindo (ex: 'Dor no peito e formigamento no braço esquerdo'): \")\n",
        "\n",
        "    # Localização fixa para testes (Campinas, SP, Brasil).\n",
        "    # Em uma aplicação de produção, esta localização seria obtida dinamicamente do usuário.\n",
        "    latitude_usuario = -22.9056\n",
        "    longitude_usuario = -47.0608\n",
        "\n",
        "    # Chama a função orquestradora principal para iniciar a jornada de assistência.\n",
        "    await orquestrador_primeiros_socorros(mensagem_usuario, latitude_usuario, longitude_usuario)\n",
        "\n",
        "# Garante que a função 'main' seja executada quando o script é iniciado.\n",
        "# 'asyncio.run(main())' é o método padrão para rodar funções assíncronas.\n",
        "if __name__ == \"__main__\":\n",
        "    asyncio.run(main())"
      ],
      "metadata": {
        "colab": {
          "base_uri": "https://localhost:8080/",
          "height": 1000
        },
        "id": "5llR1_uaW6A1",
        "outputId": "ea2daeee-0375-47ef-e5ec-5f0a374a365e"
      },
      "execution_count": 55,
      "outputs": [
        {
          "output_type": "stream",
          "name": "stdout",
          "text": [
            "❓ Olá! Para iniciar, por favor, descreva o que você está sentindo (ex: 'Dor no peito e formigamento no braço esquerdo'): Febre\n",
            "\n",
            "======================================================================\n",
            "      ⚕️ Sistema de Assistência de Primeiros Socorros Ativado ⚕️      \n",
            "         Siga as orientações para obter a melhor assistência.         \n",
            "======================================================================\n",
            "\n",
            "\n",
            "--- 🗣️ AGENTE DE TRIAGEM: Analisando seus sintomas iniciais... ---\n",
            "\n"
          ]
        },
        {
          "output_type": "display_data",
          "data": {
            "text/plain": [
              "<IPython.core.display.Markdown object>"
            ],
            "text/markdown": "> **Agente de Triagem:** Sinto muito que esteja se sentindo mal. Para ajudá-lo da melhor maneira possível, preciso de mais informações. Pode me descrever sua febre? Por exemplo, qual a sua temperatura? Está acompanhada de outros sintomas como calafrios, suor, dor de cabeça, dor muscular, tosse, dor de garganta, vômitos ou diarreia?  Você sente mais alguma dor ou algo diferente que eu deva saber?"
          },
          "metadata": {}
        },
        {
          "output_type": "stream",
          "name": "stdout",
          "text": [
            "--------------------------------------------------------------\n",
            "❓ Você sente mais alguma dor ou algo diferente?\n",
            "   (Digite 'não' se não houver): não\n",
            "\n",
            "--- 🗣️ AGENTE DE SINTOMAS ADICIONAIS: Consolidando as informações... ---\n",
            "\n"
          ]
        },
        {
          "output_type": "display_data",
          "data": {
            "text/plain": [
              "<IPython.core.display.Markdown object>"
            ],
            "text/markdown": "> **Sintomas Consolidados:**\n> Sintomas iniciais:  O paciente relatou sentir-se mal, mas não forneceu detalhes adicionais sobre a febre ou outros sintomas associados, como calafrios, suor, dor de cabeça, dor muscular, tosse, dor de garganta, vômitos ou diarreia.  Não foram relatadas outras dores ou sintomas diferentes."
          },
          "metadata": {}
        },
        {
          "output_type": "stream",
          "name": "stdout",
          "text": [
            "--------------------------------------------------------------\n",
            "\n",
            "--- 🔍 AGENTE DE BUSCA: Pesquisando as melhores práticas de primeiros socorros... ---\n",
            "\n",
            "A busca de informações de primeiros socorros foi concluída internamente.\n",
            "--------------------------------------------------------------\n",
            "\n",
            "--- 🚨 AGENTE DE AVALIAÇÃO DE EMERGÊNCIA: Analisando a gravidade da situação... ---\n",
            "\n"
          ]
        },
        {
          "output_type": "display_data",
          "data": {
            "text/plain": [
              "<IPython.core.display.Markdown object>"
            ],
            "text/markdown": "> **Avaliação e Recomendação de Emergência:**\n> A descrição dos sintomas é muito vaga.  Para determinar a gravidade da situação, mais informações são necessárias.  Se o paciente apresentar qualquer um dos seguintes sintomas, ligue IMEDIATAMENTE para o serviço de emergência (192 - SAMU no Brasil):  dificuldade respiratória grave, dor no peito, perda de consciência.  Caso contrário, procure atendimento médico em um hospital ou clínica para avaliação completa."
          },
          "metadata": {}
        },
        {
          "output_type": "stream",
          "name": "stdout",
          "text": [
            "--------------------------------------------------------------\n",
            "\n",
            "--- 📝 AGENTE DE PLANEJAMENTO: Elaborando um plano de ação... ---\n",
            "\n"
          ]
        },
        {
          "output_type": "display_data",
          "data": {
            "text/plain": [
              "<IPython.core.display.Markdown object>"
            ],
            "text/markdown": "> **Plano de Ações Sugerido:**\n> **Plano de Ação de Primeiros Socorros:**\n\n> 1. **Coleta de informações:** Questione o paciente detalhadamente sobre *todos* os sintomas, incluindo, mas não se limitando a: febre, calafrios, suor, dor de cabeça, dor muscular, tosse, dor de garganta, vômitos, diarreia, falta de ar, dor no peito, perda de olfato ou paladar.  Anote tudo.\n\n> 2. **Monitoramento:** Observe atentamente a respiração, nível de consciência e quaisquer mudanças no estado do paciente.\n\n> 3. **Medidas de precaução:** Incentive higiene rigorosa das mãos. Se possível, mantenha distância segura do paciente. Use máscara, se disponível.\n\n> 4. **Procura de ajuda médica:**  Se houver dificuldade respiratória, dor no peito, confusão mental,  piora súbita do estado geral, ou se os sintomas persistirem ou piorarem, procure atendimento médico **imediatamente**.  Ligue para o serviço médico de emergência ou dirija-se ao hospital mais próximo.\n\n\n> **Observação:** Este plano é uma guia.  A gravidade da situação determinará a urgência das ações.  Em caso de dúvida, sempre procure ajuda médica profissional."
          },
          "metadata": {}
        },
        {
          "output_type": "stream",
          "name": "stdout",
          "text": [
            "--------------------------------------------------------------\n",
            "\n",
            "--- 🏥 AGENTE DE LOCALIZAÇÃO: Buscando hospitais e médicos próximos a você... ---\n",
            "\n",
            "\n",
            "**Hospitais Próximos (Top 4):**\n"
          ]
        },
        {
          "output_type": "display_data",
          "data": {
            "text/plain": [
              "<IPython.core.display.Markdown object>"
            ],
            "text/markdown": "> - **Hospital Vera Cruz** (Avenida Andrade Neves, 402 - Pronto Socorro Rua Onze de Agosto, 495 - Recepção Eletiva - Botafogo, Campinas, Avaliação: 4.6)"
          },
          "metadata": {}
        },
        {
          "output_type": "display_data",
          "data": {
            "text/plain": [
              "<IPython.core.display.Markdown object>"
            ],
            "text/markdown": "> - **Real Sociedade Portuguesa de Beneficência** (Rua Onze de Agosto, 557 - Centro, Campinas, Avaliação: 2.6)"
          },
          "metadata": {}
        },
        {
          "output_type": "display_data",
          "data": {
            "text/plain": [
              "<IPython.core.display.Markdown object>"
            ],
            "text/markdown": "> - **Hospital Beneficência Portuguesa** (Rua Onze de Agosto, 557 - Centro, Campinas, Avaliação: 2.3)"
          },
          "metadata": {}
        },
        {
          "output_type": "display_data",
          "data": {
            "text/plain": [
              "<IPython.core.display.Markdown object>"
            ],
            "text/markdown": "> - **Hospital Santa Elisa** (Rua Sócrates Fernandes de Oliveira, 70 - Chácara Urbana, Jundiaí, Avaliação: 3.4)"
          },
          "metadata": {}
        },
        {
          "output_type": "stream",
          "name": "stdout",
          "text": [
            "\n",
            "**Médicos/Clínicas Próximos (Top 4):**\n"
          ]
        },
        {
          "output_type": "display_data",
          "data": {
            "text/plain": [
              "<IPython.core.display.Markdown object>"
            ],
            "text/markdown": "> - **Clínica Liberman** (Avenida Andrade Neves, 699 - Botafogo, Campinas, Avaliação: 3.3)"
          },
          "metadata": {}
        },
        {
          "output_type": "display_data",
          "data": {
            "text/plain": [
              "<IPython.core.display.Markdown object>"
            ],
            "text/markdown": "> - **Clínica de Cardiologia e Reabilitação** (Rua Doutor Pelágio Lôbo, 132 - Jardim Guanabara, Campinas, Avaliação: 3.2)"
          },
          "metadata": {}
        },
        {
          "output_type": "display_data",
          "data": {
            "text/plain": [
              "<IPython.core.display.Markdown object>"
            ],
            "text/markdown": "> - **Eletroneuromiografia - Dra. Terezinha Prince** (Av. Moraes Sales, 1136 Condoclinica São Lucas - 7o, andar - Sala 71 - Centro, Campinas, Avaliação: 3)"
          },
          "metadata": {}
        },
        {
          "output_type": "display_data",
          "data": {
            "text/plain": [
              "<IPython.core.display.Markdown object>"
            ],
            "text/markdown": "> - **S'T Anna Clínica de Cirurgia Plástica S/C Ltda** (Avenida Orosimbo Maia, 1625 - Vila Itapura, Campinas, Avaliação: None)"
          },
          "metadata": {}
        },
        {
          "output_type": "stream",
          "name": "stdout",
          "text": [
            "--------------------------------------------------------------\n",
            "\n",
            "--- 🗺️ AGENTE DE NAVEGAÇÃO: Gerando rotas para os locais de ajuda... ---\n",
            "\n"
          ]
        },
        {
          "output_type": "display_data",
          "data": {
            "text/plain": [
              "<IPython.core.display.Markdown object>"
            ],
            "text/markdown": "> Rota para **Hospital Vera Cruz**:"
          },
          "metadata": {}
        },
        {
          "output_type": "display_data",
          "data": {
            "text/plain": [
              "<IPython.core.display.HTML object>"
            ],
            "text/html": [
              "<a href=\"https://www.google.com/maps/dir/-22.9056,-47.0608/-22.9044623,-47.0678059/data=!4m2!4m1!3e0?entry=ttu\" target=\"_blank\">Clique aqui para a rota no Google Maps</a>"
            ]
          },
          "metadata": {}
        },
        {
          "output_type": "display_data",
          "data": {
            "text/plain": [
              "<IPython.core.display.Markdown object>"
            ],
            "text/markdown": "> Rota para **Real Sociedade Portuguesa de Beneficência**:"
          },
          "metadata": {}
        },
        {
          "output_type": "display_data",
          "data": {
            "text/plain": [
              "<IPython.core.display.HTML object>"
            ],
            "text/html": [
              "<a href=\"https://www.google.com/maps/dir/-22.9056,-47.0608/-22.904103,-47.0682667/data=!4m2!4m1!3e0?entry=ttu\" target=\"_blank\">Clique aqui para a rota no Google Maps</a>"
            ]
          },
          "metadata": {}
        },
        {
          "output_type": "display_data",
          "data": {
            "text/plain": [
              "<IPython.core.display.Markdown object>"
            ],
            "text/markdown": "> Rota para **Hospital Beneficência Portuguesa**:"
          },
          "metadata": {}
        },
        {
          "output_type": "display_data",
          "data": {
            "text/plain": [
              "<IPython.core.display.HTML object>"
            ],
            "text/html": [
              "<a href=\"https://www.google.com/maps/dir/-22.9056,-47.0608/-22.9040519,-47.0683876/data=!4m2!4m1!3e0?entry=ttu\" target=\"_blank\">Clique aqui para a rota no Google Maps</a>"
            ]
          },
          "metadata": {}
        },
        {
          "output_type": "display_data",
          "data": {
            "text/plain": [
              "<IPython.core.display.Markdown object>"
            ],
            "text/markdown": "> Rota para **Hospital Santa Elisa**:"
          },
          "metadata": {}
        },
        {
          "output_type": "display_data",
          "data": {
            "text/plain": [
              "<IPython.core.display.HTML object>"
            ],
            "text/html": [
              "<a href=\"https://www.google.com/maps/dir/-22.9056,-47.0608/-23.1829494,-46.8919297/data=!4m2!4m1!3e0?entry=ttu\" target=\"_blank\">Clique aqui para a rota no Google Maps</a>"
            ]
          },
          "metadata": {}
        },
        {
          "output_type": "stream",
          "name": "stdout",
          "text": [
            "--------------------------------------------------------------\n",
            "\n",
            "--- ✨ AGENTE DE ORIENTAÇÃO DETALHADA: Compilando seu guia de ação final... ---\n",
            "\n",
            "\n",
            "**********************************************************************\n",
            "        🤖 RESUMO FINAL DA ASSISTÊNCIA DE PRIMEIROS SOCORROS 🤖         \n",
            "**********************************************************************\n",
            "\n"
          ]
        },
        {
          "output_type": "display_data",
          "data": {
            "text/plain": [
              "<IPython.core.display.Markdown object>"
            ],
            "text/markdown": "\n**1. Orientações de Primeiros Socorros:**\n    **Guia de Primeiros Socorros para Mal-Estar**\n\n    **I. Avaliação Inicial:**\n\n    *   **Coleta de Informações:**  A descrição dos sintomas é muito vaga.  É crucial obter informações detalhadas sobre os sintomas do paciente para determinar a gravidade da situação. Perguntas essenciais incluem:\n        *   Febre (temperatura): qual a temperatura registrada?  Sensação de febre?\n        *   Tosse: seca ou produtiva (com catarro)?  Frequência? Intensidade?\n        *   Dor de garganta: intensidade?  Dificuldade para engolir?\n        *   Dor de cabeça: intensidade? Localização?  Tipo de dor?\n        *   Dor muscular: intensidade? Localização?\n        *   Dificuldade respiratória: falta de ar?  Respiração ofegante?\n        *   Dor no peito: tipo de dor?  Intensidade?\n        *   Náuseas ou vômitos: frequência?  Quantidade?  Características do vômito?\n        *   Diarreia: frequência?  Quantidade?  Características das fezes?\n        *   Perda de olfato ou paladar: parcial ou total?\n        *   Outros sintomas: fadiga, calafrios, suor, congestão nasal, erupções cutâneas, olhos vermelhos.\n        *   Histórico médico: doenças pré-existentes, alergias, medicações em uso.\n        *   Viagens recentes: para onde?  Quando?  Contato com pessoas doentes?\n\n\n    *   **Observação:**  Observe atentamente o nível de consciência, respiração (frequência, profundidade, esforço respiratório), e quaisquer mudanças no estado geral do paciente.\n\n    **II.  Classificação da Gravidade:**\n\n    *   **Emergência Médica (Ligue imediatamente para o serviço de emergência 192):**\n        *   Dificuldade respiratória grave.\n        *   Dor no peito intensa.\n        *   Perda de consciência.\n        *   Confusão mental.\n        *   Piora súbita do estado geral.\n\n    *   **Atenção Médica (Procure atendimento médico o mais breve possível):**\n        *   Sintomas persistentes ou que pioram progressivamente.\n        *   Febre alta (acima de 38,5°C).\n        *   Tosse intensa e persistente.\n        *   Dor de cabeça severa.\n        *   Fraqueza intensa.\n\n\n    *   **Monitoramento em Casa:**\n        *   Sintomas leves e sem piora.\n\n    **III.  Ações Recomendadas:**\n\n    *   **Medidas de precaução:**\n        *   Higiene das mãos frequente e rigorosa com água e sabão ou álcool em gel (70%).\n        *   Evite contato próximo com outras pessoas, se possível.\n        *   Utilize máscara, se disponível.\n        *   Cubra o nariz e a boca ao tossir ou espirrar, utilizando um lenço descartável.\n\n    *   **Tratamento em Casa (para sintomas leves):**\n        *   Repouso adequado.\n        *   Hidratação abundante (água, sucos, sopas).\n        *   Alimentação leve e nutritiva.\n        *   Analgesicos e antitérmicos, se necessário, seguindo as instruções do fabricante e/ou orientação médica.\n\n    *   **Procura de Ajuda Médica:** Siga as recomendações da seção II para determinar a urgência da busca por atendimento médico.  Utilize os contatos dos hospitais e médicos listados, ou outros serviços médicos disponíveis na sua região.\n\n\n    **IV.  Observações:**\n\n    * Este guia é uma referência geral e não substitui uma avaliação profissional.\n    * A gravidade da situação e a necessidade de intervenção médica dependem exclusivamente da avaliação do estado do paciente.\n    * Em caso de dúvida, sempre procure atendimento médico profissional.\n    * As informações sobre hospitais e clínicas fornecidas são apenas exemplos e sua disponibilidade e qualidade de atendimento podem variar.\n\n    **V. Considerações Adicionais:**\n\n    * Os sintomas descritos podem ser indicativos de diversas condições, como gripe comum, resfriado, COVID-19, e outras infecções virais. Um diagnóstico preciso somente pode ser feito por um profissional de saúde após avaliação completa e exames complementares, quando necessário.\n    * A informação fornecida aqui é válida para a data de hoje, 17 de Maio de 2025, e pode ser alterada com o passar do tempo.  Recomendações de saúde pública e tratamentos podem mudar com novas descobertas científicas.\n\n**2. Recomendação Urgente:**\n    A descrição dos sintomas é muito vaga.  Para determinar a gravidade da situação, mais informações são necessárias.  Se o paciente apresentar qualquer um dos seguintes sintomas, ligue IMEDIATAMENTE para o serviço de emergência (192 - SAMU no Brasil):  dificuldade respiratória grave, dor no peito, perda de consciência.  Caso contrário, procure atendimento médico em um hospital ou clínica para avaliação completa.\n\n---\n**IMPORTANTE:** Para detalhes sobre **Hospitais, Médicos/Clínicas e Rotas**, por favor,\n**role para cima** e verifique as mensagens anteriores. Os links para o Google Maps estão lá!\n"
          },
          "metadata": {}
        },
        {
          "output_type": "stream",
          "name": "stdout",
          "text": [
            "\n",
            "======================================================================\n",
            "            Processo de Assistência Concluído. Fique bem!             \n",
            "======================================================================\n",
            "\n"
          ]
        }
      ]
    }
  ]
}